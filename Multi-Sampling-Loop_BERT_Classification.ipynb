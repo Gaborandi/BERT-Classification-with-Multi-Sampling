{
 "cells": [
  {
   "cell_type": "code",
   "execution_count": 1,
   "id": "e7d5fbd2-d407-488f-aa84-cc9167bf5f84",
   "metadata": {},
   "outputs": [
    {
     "data": {
      "text/plain": [
       "'/scratch1/aalamel'"
      ]
     },
     "execution_count": 1,
     "metadata": {},
     "output_type": "execute_result"
    }
   ],
   "source": [
    "import os\n",
    "\n",
    "os.chdir('/scratch1/aalamel')\n",
    "\n",
    "os.getcwd()"
   ]
  },
  {
   "cell_type": "code",
   "execution_count": 2,
   "id": "dd83867e-d879-41c2-a560-4b7cf5f2c38c",
   "metadata": {},
   "outputs": [],
   "source": [
    "import numpy as np\n",
    "import pandas as pd\n",
    "import os\n",
    "from tqdm import tqdm\n",
    "import tensorflow as tf\n",
    "import torch\n",
    "import torch.nn as nn\n",
    "import torch.nn.functional as F\n",
    "from sklearn.model_selection import train_test_split\n",
    "from sklearn.metrics import classification_report, matthews_corrcoef\n",
    "from transformers import (\n",
    "\t\tAutoModel, \n",
    "\t\tBertTokenizerFast, \n",
    "\t\tBertTokenizer, \n",
    "\t\tBertForSequenceClassification, \n",
    "\t\tAdamW, \n",
    "\t\tBertConfig,\n",
    "\t\tget_linear_schedule_with_warmup,\n",
    "    )\n",
    "\n",
    "from sklearn import metrics\n",
    "from sklearn.metrics import classification_report\n",
    "from sklearn.metrics import confusion_matrix\n",
    "from sklearn.metrics import roc_auc_score\n",
    "from sklearn.metrics import roc_curve, auc\n",
    "import evaluate\n",
    "from sklearn.utils import shuffle\n",
    "\n",
    "import time\n",
    "import datetime\n",
    "import math\n",
    "import matplotlib.pyplot as plt\n",
    "import seaborn as sns\n",
    "from torch.utils.data import DataLoader, RandomSampler, SequentialSampler\n",
    "import random\n",
    "from torch.utils.data import TensorDataset, random_split"
   ]
  },
  {
   "cell_type": "code",
   "execution_count": 3,
   "id": "3d926eff-b085-4962-a9b1-14de2d28742f",
   "metadata": {},
   "outputs": [],
   "source": [
    "data = pd.read_csv('pubmed.csv')"
   ]
  },
  {
   "cell_type": "code",
   "execution_count": 4,
   "id": "a51b5795-c01c-4f9f-a26a-3752a9cb795c",
   "metadata": {},
   "outputs": [
    {
     "data": {
      "text/plain": [
       "(6726, 2)"
      ]
     },
     "execution_count": 4,
     "metadata": {},
     "output_type": "execute_result"
    }
   ],
   "source": [
    "data.shape"
   ]
  },
  {
   "cell_type": "code",
   "execution_count": 5,
   "id": "0498b6fe-fd50-4425-b199-5bb09b7803f3",
   "metadata": {},
   "outputs": [
    {
     "data": {
      "text/plain": [
       "0    4458\n",
       "1    2268\n",
       "Name: label, dtype: int64"
      ]
     },
     "execution_count": 5,
     "metadata": {},
     "output_type": "execute_result"
    }
   ],
   "source": [
    "data['label'].value_counts()"
   ]
  },
  {
   "cell_type": "code",
   "execution_count": 6,
   "id": "826db5f7-2900-43fc-a7a4-e8f9cf2de7c7",
   "metadata": {},
   "outputs": [],
   "source": [
    "#activate this cell in case you will work with GPU"
   ]
  },
  {
   "cell_type": "code",
   "execution_count": 7,
   "id": "71a3c070-f3e4-43f6-be61-e18cd4fb7750",
   "metadata": {},
   "outputs": [],
   "source": [
    "#import tensorflow as tf\n",
    "\n",
    "# Get the GPU device name.\n",
    "#device_name = tf.test.gpu_device_name()\n",
    "\n",
    "# The device name should look like the following:\n",
    "#if device_name == '/device:GPU:0':\n",
    "    #print('Found GPU at: {}'.format(device_name))\n",
    "#else:\n",
    "    #raise SystemError('GPU device not found')"
   ]
  },
  {
   "cell_type": "code",
   "execution_count": 8,
   "id": "246798ec-d481-472e-b304-b172c9134cd5",
   "metadata": {},
   "outputs": [],
   "source": [
    "#works with any BERT family models except DistilBERT, need a small modifications\n",
    "\n",
    "tokenizer = BertTokenizer.from_pretrained('emilyalsentzer/Bio_ClinicalBERT')"
   ]
  },
  {
   "cell_type": "code",
   "execution_count": 9,
   "id": "6da3d463-b33f-4db6-92da-5953e4560959",
   "metadata": {},
   "outputs": [],
   "source": [
    "# Function to calculate the accuracy of our predictions vs labels\n",
    "\n",
    "def flat_accuracy(preds, labels):\n",
    "    pred_flat = np.argmax(preds, axis=1).flatten()\n",
    "    labels_flat = labels.flatten()\n",
    "    return np.sum(pred_flat == labels_flat) / len(labels_flat)"
   ]
  },
  {
   "cell_type": "code",
   "execution_count": 10,
   "id": "0d1f50ed-8ada-48e9-9593-57f3d8fe56fa",
   "metadata": {},
   "outputs": [],
   "source": [
    "def format_time(elapsed):\n",
    "    '''\n",
    "    Takes a time in seconds and returns a string hh:mm:ss\n",
    "    '''\n",
    "    # Round to the nearest second.\n",
    "    elapsed_rounded = int(round((elapsed)))\n",
    "    \n",
    "    # Format as hh:mm:ss\n",
    "    return str(datetime.timedelta(seconds=elapsed_rounded))"
   ]
  },
  {
   "cell_type": "code",
   "execution_count": 11,
   "id": "a245939a-5579-4f41-af66-d35ea54e3f0c",
   "metadata": {},
   "outputs": [],
   "source": [
    "# List of proportions to use in each iteration\n",
    "#dataset ==> 80% train (500) + 20% valid\n",
    "#{625 / 1250 / 1875 / 2500 / 3750 / 5000}\n",
    "training_set_proportions = [5000] "
   ]
  },
  {
   "cell_type": "code",
   "execution_count": null,
   "id": "05850cae-e293-4e36-be6e-e517d8c7b367",
   "metadata": {
    "tags": []
   },
   "outputs": [
    {
     "name": "stdout",
     "output_type": "stream",
     "text": [
      "Iteration Number 0\n",
      "\n"
     ]
    },
    {
     "name": "stderr",
     "output_type": "stream",
     "text": [
      "/home/aalamel/.conda/envs/pytorch/lib/python3.8/site-packages/transformers/tokenization_utils_base.py:2336: FutureWarning: The `pad_to_max_length` argument is deprecated and will be removed in a future version, use `padding=True` or `padding='longest'` to pad to the longest sequence in the batch, or use `padding='max_length'` to pad to a max length. In this case, you can give a specific length with `max_length` (e.g. `max_length=45`) or leave max_length to None to pad to the maximal input size of the model (e.g. 512 for Bert).\n",
      "  warnings.warn(\n"
     ]
    },
    {
     "name": "stdout",
     "output_type": "stream",
     "text": [
      "Running on 5000 of data set...\n",
      "\n",
      "4,000 training samples\n",
      "\n",
      "1,000 validation samples\n",
      "\n"
     ]
    },
    {
     "name": "stderr",
     "output_type": "stream",
     "text": [
      "Some weights of the model checkpoint at emilyalsentzer/Bio_ClinicalBERT were not used when initializing BertForSequenceClassification: ['cls.predictions.transform.dense.weight', 'cls.predictions.decoder.weight', 'cls.predictions.bias', 'cls.predictions.transform.LayerNorm.bias', 'cls.seq_relationship.bias', 'cls.predictions.transform.dense.bias', 'cls.predictions.transform.LayerNorm.weight', 'cls.seq_relationship.weight']\n",
      "- This IS expected if you are initializing BertForSequenceClassification from the checkpoint of a model trained on another task or with another architecture (e.g. initializing a BertForSequenceClassification model from a BertForPreTraining model).\n",
      "- This IS NOT expected if you are initializing BertForSequenceClassification from the checkpoint of a model that you expect to be exactly identical (initializing a BertForSequenceClassification model from a BertForSequenceClassification model).\n",
      "Some weights of BertForSequenceClassification were not initialized from the model checkpoint at emilyalsentzer/Bio_ClinicalBERT and are newly initialized: ['classifier.bias', 'classifier.weight']\n",
      "You should probably TRAIN this model on a down-stream task to be able to use it for predictions and inference.\n",
      "/home/aalamel/.conda/envs/pytorch/lib/python3.8/site-packages/transformers/optimization.py:306: FutureWarning: This implementation of AdamW is deprecated and will be removed in a future version. Use the PyTorch implementation torch.optim.AdamW instead, or set `no_deprecation_warning=True` to disable this warning\n",
      "  warnings.warn(\n"
     ]
    },
    {
     "name": "stdout",
     "output_type": "stream",
     "text": [
      "\n",
      "\n",
      "======== Epoch 1 / 4 ========\n",
      "\n",
      "Training...\n",
      "\n"
     ]
    },
    {
     "name": "stderr",
     "output_type": "stream",
     "text": [
      "Iteration:  32%|███▏      | 40/125 [08:57<18:11, 12.84s/it]"
     ]
    },
    {
     "name": "stdout",
     "output_type": "stream",
     "text": [
      "  Batch    40  of    125.    Elapsed: 0:08:57.\n"
     ]
    },
    {
     "name": "stderr",
     "output_type": "stream",
     "text": [
      "Iteration:  64%|██████▍   | 80/125 [17:40<10:49, 14.42s/it]"
     ]
    },
    {
     "name": "stdout",
     "output_type": "stream",
     "text": [
      "  Batch    80  of    125.    Elapsed: 0:17:41.\n"
     ]
    },
    {
     "name": "stderr",
     "output_type": "stream",
     "text": [
      "Iteration:  96%|█████████▌| 120/125 [26:30<01:03, 12.65s/it]"
     ]
    },
    {
     "name": "stdout",
     "output_type": "stream",
     "text": [
      "  Batch   120  of    125.    Elapsed: 0:26:31.\n"
     ]
    },
    {
     "name": "stderr",
     "output_type": "stream",
     "text": [
      "Iteration: 100%|██████████| 125/125 [27:34<00:00, 13.23s/it]\n"
     ]
    },
    {
     "name": "stdout",
     "output_type": "stream",
     "text": [
      "\n",
      "  Average training loss: 0.24\n",
      "\n",
      "  Training epcoh took: 0:27:34\n",
      "\n",
      "\n",
      "Running Validation...\n",
      "\n"
     ]
    },
    {
     "name": "stderr",
     "output_type": "stream",
     "text": [
      "Iteration: 100%|██████████| 32/32 [01:01<00:00,  1.91s/it]\n"
     ]
    },
    {
     "name": "stdout",
     "output_type": "stream",
     "text": [
      "  Accuracy: 0.96\n",
      "  Validation Loss: 0.13\n",
      "  Validation took: 0:01:01\n",
      "\n",
      "\n",
      "======== Epoch 2 / 4 ========\n",
      "\n",
      "Training...\n",
      "\n"
     ]
    },
    {
     "name": "stderr",
     "output_type": "stream",
     "text": [
      "Iteration:  32%|███▏      | 40/125 [08:31<18:21, 12.96s/it]"
     ]
    },
    {
     "name": "stdout",
     "output_type": "stream",
     "text": [
      "  Batch    40  of    125.    Elapsed: 0:08:32.\n"
     ]
    },
    {
     "name": "stderr",
     "output_type": "stream",
     "text": [
      "Iteration:  64%|██████▍   | 80/125 [17:10<09:26, 12.60s/it]"
     ]
    },
    {
     "name": "stdout",
     "output_type": "stream",
     "text": [
      "  Batch    80  of    125.    Elapsed: 0:17:11.\n"
     ]
    },
    {
     "name": "stderr",
     "output_type": "stream",
     "text": [
      "Iteration:  96%|█████████▌| 120/125 [25:36<01:05, 13.14s/it]"
     ]
    },
    {
     "name": "stdout",
     "output_type": "stream",
     "text": [
      "  Batch   120  of    125.    Elapsed: 0:25:37.\n"
     ]
    },
    {
     "name": "stderr",
     "output_type": "stream",
     "text": [
      "Iteration: 100%|██████████| 125/125 [26:38<00:00, 12.79s/it]\n"
     ]
    },
    {
     "name": "stdout",
     "output_type": "stream",
     "text": [
      "\n",
      "  Average training loss: 0.12\n",
      "\n",
      "  Training epcoh took: 0:26:39\n",
      "\n",
      "\n",
      "Running Validation...\n",
      "\n"
     ]
    },
    {
     "name": "stderr",
     "output_type": "stream",
     "text": [
      "Iteration: 100%|██████████| 32/32 [01:00<00:00,  1.90s/it]\n"
     ]
    },
    {
     "name": "stdout",
     "output_type": "stream",
     "text": [
      "  Accuracy: 0.97\n",
      "  Validation Loss: 0.10\n",
      "  Validation took: 0:01:01\n",
      "\n",
      "\n",
      "======== Epoch 3 / 4 ========\n",
      "\n",
      "Training...\n",
      "\n"
     ]
    },
    {
     "name": "stderr",
     "output_type": "stream",
     "text": [
      "Iteration:  32%|███▏      | 40/125 [08:28<18:09, 12.82s/it]"
     ]
    },
    {
     "name": "stdout",
     "output_type": "stream",
     "text": [
      "  Batch    40  of    125.    Elapsed: 0:08:28.\n"
     ]
    },
    {
     "name": "stderr",
     "output_type": "stream",
     "text": [
      "Iteration:  64%|██████▍   | 80/125 [17:07<10:36, 14.15s/it]"
     ]
    },
    {
     "name": "stdout",
     "output_type": "stream",
     "text": [
      "  Batch    80  of    125.    Elapsed: 0:17:07.\n"
     ]
    },
    {
     "name": "stderr",
     "output_type": "stream",
     "text": [
      "Iteration:  96%|█████████▌| 120/125 [25:16<01:03, 12.72s/it]"
     ]
    },
    {
     "name": "stdout",
     "output_type": "stream",
     "text": [
      "  Batch   120  of    125.    Elapsed: 0:25:16.\n"
     ]
    },
    {
     "name": "stderr",
     "output_type": "stream",
     "text": [
      "Iteration: 100%|██████████| 125/125 [26:19<00:00, 12.63s/it]\n"
     ]
    },
    {
     "name": "stdout",
     "output_type": "stream",
     "text": [
      "\n",
      "  Average training loss: 0.09\n",
      "\n",
      "  Training epcoh took: 0:26:19\n",
      "\n",
      "\n",
      "Running Validation...\n",
      "\n"
     ]
    },
    {
     "name": "stderr",
     "output_type": "stream",
     "text": [
      "Iteration: 100%|██████████| 32/32 [01:06<00:00,  2.08s/it]\n"
     ]
    },
    {
     "name": "stdout",
     "output_type": "stream",
     "text": [
      "  Accuracy: 0.96\n",
      "  Validation Loss: 0.11\n",
      "  Validation took: 0:01:07\n",
      "\n",
      "\n",
      "======== Epoch 4 / 4 ========\n",
      "\n",
      "Training...\n",
      "\n"
     ]
    },
    {
     "name": "stderr",
     "output_type": "stream",
     "text": [
      "Iteration:  32%|███▏      | 40/125 [08:18<16:39, 11.76s/it]"
     ]
    },
    {
     "name": "stdout",
     "output_type": "stream",
     "text": [
      "  Batch    40  of    125.    Elapsed: 0:08:19.\n"
     ]
    },
    {
     "name": "stderr",
     "output_type": "stream",
     "text": [
      "Iteration:  64%|██████▍   | 80/125 [16:49<08:58, 11.96s/it]"
     ]
    },
    {
     "name": "stdout",
     "output_type": "stream",
     "text": [
      "  Batch    80  of    125.    Elapsed: 0:16:50.\n"
     ]
    },
    {
     "name": "stderr",
     "output_type": "stream",
     "text": [
      "Iteration:  96%|█████████▌| 120/125 [25:19<00:58, 11.68s/it]"
     ]
    },
    {
     "name": "stdout",
     "output_type": "stream",
     "text": [
      "  Batch   120  of    125.    Elapsed: 0:25:20.\n"
     ]
    },
    {
     "name": "stderr",
     "output_type": "stream",
     "text": [
      "Iteration: 100%|██████████| 125/125 [26:25<00:00, 12.69s/it]\n"
     ]
    },
    {
     "name": "stdout",
     "output_type": "stream",
     "text": [
      "\n",
      "  Average training loss: 0.07\n",
      "\n",
      "  Training epcoh took: 0:26:26\n",
      "\n",
      "\n",
      "Running Validation...\n",
      "\n"
     ]
    },
    {
     "name": "stderr",
     "output_type": "stream",
     "text": [
      "Iteration: 100%|██████████| 32/32 [01:00<00:00,  1.90s/it]\n",
      "/home/aalamel/.conda/envs/pytorch/lib/python3.8/site-packages/transformers/tokenization_utils_base.py:2336: FutureWarning: The `pad_to_max_length` argument is deprecated and will be removed in a future version, use `padding=True` or `padding='longest'` to pad to the longest sequence in the batch, or use `padding='max_length'` to pad to a max length. In this case, you can give a specific length with `max_length` (e.g. `max_length=45`) or leave max_length to None to pad to the maximal input size of the model (e.g. 512 for Bert).\n",
      "  warnings.warn(\n"
     ]
    },
    {
     "name": "stdout",
     "output_type": "stream",
     "text": [
      "  Accuracy: 0.97\n",
      "  Validation Loss: 0.10\n",
      "  Validation took: 0:01:01\n",
      "\n",
      "Training complete!\n",
      "\n",
      "Total training took 1:51:08 (h:mm:ss)\n",
      "\n",
      "Metrics of4000 of the training data set\n",
      "\n",
      "       Training Loss  Valid. Loss  Valid. Accur. Training Time Validation Time\n",
      "epoch                                                                         \n",
      "1           0.236475     0.129589       0.958984       0:27:34         0:01:01\n",
      "2           0.123799     0.100925       0.970703       0:26:39         0:01:01\n",
      "3           0.093389     0.114627       0.961914       0:26:19         0:01:07\n",
      "4           0.069561     0.098223       0.966797       0:26:26         0:01:01\n",
      "800\n",
      "Predicting labels for 800 test sentences...\n",
      "\n"
     ]
    },
    {
     "name": "stderr",
     "output_type": "stream",
     "text": [
      "  0%|          | 0/25 [00:00<?, ?it/s]2023-01-03 14:58:05.955695: I tensorflow/core/platform/cpu_feature_guard.cc:193] This TensorFlow binary is optimized with oneAPI Deep Neural Network Library (oneDNN) to use the following CPU instructions in performance-critical operations:  AVX2 AVX512F FMA\n",
      "To enable them in other operations, rebuild TensorFlow with the appropriate compiler flags.\n",
      "2023-01-03 14:58:08.454424: I tensorflow/core/common_runtime/gpu/gpu_device.cc:1532] Created device /job:localhost/replica:0/task:0/device:GPU:0 with 13697 MB memory:  -> device: 0, name: Tesla V100-PCIE-16GB, pci bus id: 0000:3b:00.0, compute capability: 7.0\n",
      "100%|██████████| 25/25 [00:49<00:00,  1.97s/it]\n"
     ]
    },
    {
     "name": "stdout",
     "output_type": "stream",
     "text": [
      "..........DONE..........\n",
      "\n",
      "Positive samples: 2268 of 6726 (33.72%)\n",
      "Calculating Matthews Corr. Coef. for each batch...\n",
      "\n",
      "Total MCC: 0.000\n",
      "GLUE score of 4000 training data for iteration 0:  {'accuracy': 0.925, 'f1': 0.961038961038961}\n",
      "Iteration Number 1\n",
      "\n"
     ]
    },
    {
     "name": "stderr",
     "output_type": "stream",
     "text": [
      "/home/aalamel/.conda/envs/pytorch/lib/python3.8/site-packages/transformers/tokenization_utils_base.py:2336: FutureWarning: The `pad_to_max_length` argument is deprecated and will be removed in a future version, use `padding=True` or `padding='longest'` to pad to the longest sequence in the batch, or use `padding='max_length'` to pad to a max length. In this case, you can give a specific length with `max_length` (e.g. `max_length=45`) or leave max_length to None to pad to the maximal input size of the model (e.g. 512 for Bert).\n",
      "  warnings.warn(\n"
     ]
    },
    {
     "name": "stdout",
     "output_type": "stream",
     "text": [
      "Running on 5000 of data set...\n",
      "\n",
      "4,000 training samples\n",
      "\n",
      "1,000 validation samples\n",
      "\n"
     ]
    },
    {
     "name": "stderr",
     "output_type": "stream",
     "text": [
      "Some weights of the model checkpoint at emilyalsentzer/Bio_ClinicalBERT were not used when initializing BertForSequenceClassification: ['cls.predictions.transform.dense.weight', 'cls.predictions.decoder.weight', 'cls.predictions.bias', 'cls.predictions.transform.LayerNorm.bias', 'cls.seq_relationship.bias', 'cls.predictions.transform.dense.bias', 'cls.predictions.transform.LayerNorm.weight', 'cls.seq_relationship.weight']\n",
      "- This IS expected if you are initializing BertForSequenceClassification from the checkpoint of a model trained on another task or with another architecture (e.g. initializing a BertForSequenceClassification model from a BertForPreTraining model).\n",
      "- This IS NOT expected if you are initializing BertForSequenceClassification from the checkpoint of a model that you expect to be exactly identical (initializing a BertForSequenceClassification model from a BertForSequenceClassification model).\n",
      "Some weights of BertForSequenceClassification were not initialized from the model checkpoint at emilyalsentzer/Bio_ClinicalBERT and are newly initialized: ['classifier.bias', 'classifier.weight']\n",
      "You should probably TRAIN this model on a down-stream task to be able to use it for predictions and inference.\n",
      "/home/aalamel/.conda/envs/pytorch/lib/python3.8/site-packages/transformers/optimization.py:306: FutureWarning: This implementation of AdamW is deprecated and will be removed in a future version. Use the PyTorch implementation torch.optim.AdamW instead, or set `no_deprecation_warning=True` to disable this warning\n",
      "  warnings.warn(\n"
     ]
    },
    {
     "name": "stdout",
     "output_type": "stream",
     "text": [
      "\n",
      "\n",
      "======== Epoch 1 / 4 ========\n",
      "\n",
      "Training...\n",
      "\n"
     ]
    },
    {
     "name": "stderr",
     "output_type": "stream",
     "text": [
      "Iteration:  32%|███▏      | 40/125 [08:42<18:37, 13.14s/it]"
     ]
    },
    {
     "name": "stdout",
     "output_type": "stream",
     "text": [
      "  Batch    40  of    125.    Elapsed: 0:08:43.\n"
     ]
    },
    {
     "name": "stderr",
     "output_type": "stream",
     "text": [
      "Iteration:  64%|██████▍   | 80/125 [17:27<09:37, 12.83s/it]"
     ]
    },
    {
     "name": "stdout",
     "output_type": "stream",
     "text": [
      "  Batch    80  of    125.    Elapsed: 0:17:27.\n"
     ]
    },
    {
     "name": "stderr",
     "output_type": "stream",
     "text": [
      "Iteration:  96%|█████████▌| 120/125 [26:15<01:10, 14.09s/it]"
     ]
    },
    {
     "name": "stdout",
     "output_type": "stream",
     "text": [
      "  Batch   120  of    125.    Elapsed: 0:26:15.\n"
     ]
    },
    {
     "name": "stderr",
     "output_type": "stream",
     "text": [
      "Iteration: 100%|██████████| 125/125 [27:15<00:00, 13.09s/it]\n"
     ]
    },
    {
     "name": "stdout",
     "output_type": "stream",
     "text": [
      "\n",
      "  Average training loss: 0.26\n",
      "\n",
      "  Training epcoh took: 0:27:16\n",
      "\n",
      "\n",
      "Running Validation...\n",
      "\n"
     ]
    },
    {
     "name": "stderr",
     "output_type": "stream",
     "text": [
      "Iteration: 100%|██████████| 32/32 [00:56<00:00,  1.78s/it]\n"
     ]
    },
    {
     "name": "stdout",
     "output_type": "stream",
     "text": [
      "  Accuracy: 0.96\n",
      "  Validation Loss: 0.13\n",
      "  Validation took: 0:00:57\n",
      "\n",
      "\n",
      "======== Epoch 2 / 4 ========\n",
      "\n",
      "Training...\n",
      "\n"
     ]
    },
    {
     "name": "stderr",
     "output_type": "stream",
     "text": [
      "Iteration:  32%|███▏      | 40/125 [08:34<18:02, 12.74s/it]"
     ]
    },
    {
     "name": "stdout",
     "output_type": "stream",
     "text": [
      "  Batch    40  of    125.    Elapsed: 0:08:34.\n"
     ]
    },
    {
     "name": "stderr",
     "output_type": "stream",
     "text": [
      "Iteration:  64%|██████▍   | 80/125 [17:07<09:34, 12.77s/it]"
     ]
    },
    {
     "name": "stdout",
     "output_type": "stream",
     "text": [
      "  Batch    80  of    125.    Elapsed: 0:17:07.\n"
     ]
    },
    {
     "name": "stderr",
     "output_type": "stream",
     "text": [
      "Iteration:  96%|█████████▌| 120/125 [25:50<01:06, 13.27s/it]"
     ]
    },
    {
     "name": "stdout",
     "output_type": "stream",
     "text": [
      "  Batch   120  of    125.    Elapsed: 0:25:51.\n"
     ]
    },
    {
     "name": "stderr",
     "output_type": "stream",
     "text": [
      "Iteration: 100%|██████████| 125/125 [26:55<00:00, 12.93s/it]\n"
     ]
    },
    {
     "name": "stdout",
     "output_type": "stream",
     "text": [
      "\n",
      "  Average training loss: 0.13\n",
      "\n",
      "  Training epcoh took: 0:26:56\n",
      "\n",
      "\n",
      "Running Validation...\n",
      "\n"
     ]
    },
    {
     "name": "stderr",
     "output_type": "stream",
     "text": [
      "Iteration: 100%|██████████| 32/32 [01:04<00:00,  2.01s/it]\n"
     ]
    },
    {
     "name": "stdout",
     "output_type": "stream",
     "text": [
      "  Accuracy: 0.96\n",
      "  Validation Loss: 0.12\n",
      "  Validation took: 0:01:04\n",
      "\n",
      "\n",
      "======== Epoch 3 / 4 ========\n",
      "\n",
      "Training...\n",
      "\n"
     ]
    },
    {
     "name": "stderr",
     "output_type": "stream",
     "text": [
      "Iteration:  32%|███▏      | 40/125 [08:45<18:33, 13.10s/it]"
     ]
    },
    {
     "name": "stdout",
     "output_type": "stream",
     "text": [
      "  Batch    40  of    125.    Elapsed: 0:08:46.\n"
     ]
    },
    {
     "name": "stderr",
     "output_type": "stream",
     "text": [
      "Iteration:  64%|██████▍   | 80/125 [17:22<10:27, 13.95s/it]"
     ]
    },
    {
     "name": "stdout",
     "output_type": "stream",
     "text": [
      "  Batch    80  of    125.    Elapsed: 0:17:22.\n"
     ]
    },
    {
     "name": "stderr",
     "output_type": "stream",
     "text": [
      "Iteration:  85%|████████▍ | 106/125 [22:51<03:54, 12.32s/it]"
     ]
    }
   ],
   "source": [
    "for proportion in training_set_proportions:\n",
    "    # Tokenize all of the sentences and map the tokens to thier word IDs.\n",
    "\n",
    "#####################################################################################################################################    \n",
    "################################################# Preparing the Data\n",
    "#####################################################################################################################################    \n",
    "\t#creating lists to store the metrics for all iterations in one dataframe for each\n",
    "\tmcc_result = []\n",
    "\tglue_result = []\n",
    "\tauc_result = []\n",
    "\n",
    "\tproportion = int(proportion)  \n",
    "\tdata_test = data[data['label'] == 1]  \n",
    "\n",
    "\tnum = 25\n",
    "\tfor _ in range (num) :\n",
    "\n",
    "\t\tprint(f\"Iteration Number {_}\"+ '\\n')    \n",
    "        \n",
    "\t\tdata = shuffle(data)   \n",
    "\n",
    "\t\ttest_data = data_test.sample(n = 800)    \n",
    "      \n",
    "\t\tindices = list(test_data.index.values)        \n",
    "\t\ttrain_data = data[~ data.index.isin(indices)] \n",
    "\t\ttrain_valid_data = train_data.sample(n = proportion)           \n",
    "#####################################################################################################################################    \n",
    "################################################# Preparing the Data\n",
    "#####################################################################################################################################\n",
    "\n",
    "\n",
    "#####################################################################################################################################    \n",
    "################################################# Start of Training   \n",
    "#####################################################################################################################################\n",
    "    \n",
    "\t\tsentences = train_valid_data.text.values\n",
    "\t\tlabels = train_valid_data.label.values  \n",
    "        \n",
    "\t\tinput_ids = []\n",
    "\t\tattention_masks = []\n",
    "        \n",
    "\t\t# For every sentence...\n",
    "\t\tfor sent in sentences:\n",
    "\t\t# `encode_plus` will:\n",
    "\t\t#   (1) Tokenize the sentence.\n",
    "\t\t#   (2) Prepend the `[CLS]` token to the start.\n",
    "\t\t#   (3) Append the `[SEP]` token to the end.\n",
    "\t\t#   (4) Map tokens to their IDs.\n",
    "\t\t#   (5) Pad or truncate the sentence to `max_length`\n",
    "\t\t#   (6) Create attention masks for [PAD] tokens.\n",
    "\t\t\tencoded_dict = tokenizer.encode_plus(\n",
    "                        sent,                      # Sentence to encode.\n",
    "                        add_special_tokens = True, # Add '[CLS]' and '[SEP]'\n",
    "                        max_length = 512,           # Pad & truncate all sentences.\n",
    "                        pad_to_max_length = True,\n",
    "                        return_attention_mask = True,   # Construct attn. masks.\n",
    "                        truncation = True,\n",
    "                        return_tensors = 'pt')     # Return pytorch tensors.\n",
    "        \n",
    "    \n",
    "\t\t\t# Add the encoded sentence to the list.    \n",
    "\t\t\tinput_ids.append(encoded_dict['input_ids'])\n",
    "        \n",
    "    \n",
    "\t\t\t# And its attention mask (simply differentiates padding from non-padding).\n",
    "\t\t\tattention_masks.append(encoded_dict['attention_mask'])\n",
    "        \n",
    "\t\t# Convert the lists into tensors.\n",
    "\t\tinput_ids = torch.cat(input_ids, dim=0)\n",
    "\t\tattention_masks = torch.cat(attention_masks, dim=0)\n",
    "\t\tlabels = torch.tensor(labels)\n",
    "\n",
    "\t\t# Combine the training inputs into a TensorDataset.\n",
    "\t\tdataset = TensorDataset(input_ids, attention_masks, labels)\n",
    "\t\tprint(f\"Running on {proportion} of data set...\"+ '\\n')\n",
    "    \n",
    "\t\t# Divide the dataset by randomly selecting samples.       \n",
    "\t\ttrain_size = int(0.8 * len(dataset))\n",
    "\t\tval_size = len(dataset) - train_size    \n",
    "        \n",
    "\t\ttrain_dataset, val_dataset = random_split(dataset, [train_size, val_size])\n",
    "\t\tprint('{:>5,} training samples'.format(train_size)+'\\n')\n",
    "\t\tprint('{:>5,} validation samples'.format(val_size)+'\\n')\n",
    "\n",
    "\t\t# The DataLoader needs to know our batch size for training, so we specify it \n",
    "\t\t# here. For fine-tuning BERT on a specific task, the authors recommend a batch \n",
    "\t\t# size of 16 or 32.\n",
    "\t\tbatch_size = 32\n",
    "\n",
    "\t\t# Create the DataLoaders for our training and validation sets.\n",
    "\t\t# We'll take training samples in random order. \n",
    "\t\ttrain_dataloader = DataLoader(\n",
    "\t\t\t\t\ttrain_dataset,  # The training samples.\n",
    "\t\t\t\t\tsampler = RandomSampler(train_dataset), # Select batches randomly\n",
    "\t\t\t\t\tbatch_size = batch_size  # Trains with this batch size.\n",
    "\t\t\t\t)\n",
    "\n",
    "\t\t# For validation the order doesn't matter, so we'll just read them sequentially.\n",
    "\t\tvalidation_dataloader = DataLoader(\n",
    "\t\t\t\t\tval_dataset,  # The validation samples.\n",
    "\t\t\t\t\tsampler = SequentialSampler(val_dataset), # Pull out batches sequentially.\n",
    "\t\t\t\t\tbatch_size = batch_size # Evaluate with this batch size.\n",
    "\t\t\t\t)\n",
    "\n",
    "\t\t# Load BertForSequenceClassification, the pretrained BERT model with a single \n",
    "\t\t# linear classification layer on top. \n",
    "\t\tmodel = BertForSequenceClassification.from_pretrained(\n",
    "\t\t\t\"emilyalsentzer/Bio_ClinicalBERT\",\n",
    "\t\t\tnum_labels = 2, # The number of output labels--2 for binary classification.\n",
    "\t\t\t\t\t\t# You can increase this for multi-class tasks.   \n",
    "\t\t\toutput_attentions = False, # Whether the model returns attentions weights.\n",
    "\t\t\toutput_hidden_states = False, # Whether the model returns all hidden-states.\n",
    "\t\t)\n",
    "\n",
    "\t\t#device = \"cuda:0\" if torch.cuda.is_available() else \"cpu\"    #<---------------------------- activate \n",
    "\n",
    "\t\t# Tell pytorch to run this model on the GPU.\n",
    "\t\t#model.to(device)       #<---------------------------- activate \n",
    "\n",
    "\t\t# Note: AdamW is a class from the huggingface library (as opposed to pytorch) \n",
    "\t\t# I believe the 'W' stands for 'Weight Decay fix\"\n",
    "\n",
    "\t\toptimizer = AdamW(model.parameters(),\n",
    "\t\t\t\t\t\tlr = 2e-5, # args.learning_rate - default is 5e-5, our notebook had 2e-5\n",
    "\t\t\t\t\t\teps = 1e-8) # args.adam_epsilon  - default is 1e-8.\n",
    "\n",
    "############################################################################  \n",
    "\t\t# Number of training epochs. The BERT authors recommend between 2 and 4. \n",
    "\t\tepochs = 4\n",
    "############################################################################\n",
    "\n",
    "\t\t# Total number of training steps is [number of batches] x [number of epochs]. \n",
    "\t\t# (Note that this is not the same as the number of training samples).\n",
    "\t\ttotal_steps = len(train_dataloader) * epochs\n",
    "\n",
    "\t\t# Create the learning rate scheduler.\n",
    "\t\tscheduler = get_linear_schedule_with_warmup(optimizer, \n",
    "\t\t\t\t\t\t\t\t\t\t\t\t\tnum_warmup_steps = 0, # Default value in run_glue.py\n",
    "\t\t\t\t\t\t\t\t\t\t\t\t\tnum_training_steps = total_steps)\n",
    "\n",
    "\t\t# This training code is based on the `run_glue.py` script here:\n",
    "\t\t# https://github.com/huggingface/transformers/blob/5bfcd0485ece086ebcbed2d008813037968a9e58/examples/run_glue.py#L128\n",
    "\n",
    "\t\t# Set the seed value all over the place to make this reproducible.\n",
    "\t\tseed_val = 42\n",
    "\n",
    "\t\trandom.seed(seed_val)\n",
    "\t\tnp.random.seed(seed_val)\n",
    "\t\ttorch.manual_seed(seed_val)\n",
    "\t\ttorch.cuda.manual_seed_all(seed_val)\n",
    "\n",
    "\t\t# We'll store a number of quantities such as training and validation loss, \n",
    "\t\t# validation accuracy, and timings.\n",
    "\t\ttraining_stats = []\n",
    "\n",
    "\t\t# Measure the total training time for the whole run.\n",
    "\t\ttotal_t0 = time.time()\n",
    "\n",
    "\t\t# For each epoch...\n",
    "\t\t#print(train_dataset[0])\n",
    "    \n",
    "\t\tfor epoch_i in range(0, epochs):\n",
    "\t\t\n",
    "\t\t# ========================================\n",
    "\t\t#               Training\n",
    "\t\t# ========================================\n",
    "\t\t\n",
    "\t\t# Perform one full pass over the training set.\n",
    "\n",
    "\t\t\tprint(\"\"+'\\n')\n",
    "\t\t\tprint('======== Epoch {:} / {:} ========'.format(epoch_i + 1, epochs)+'\\n')\n",
    "\t\t\tprint('Training...'+'\\n')\n",
    "\n",
    "\t\t\t# Measure how long the training epoch takes.\n",
    "\t\t\tt0 = time.time()\n",
    "\n",
    "\t\t\t# Reset the total loss for this epoch.\n",
    "\t\t\ttotal_train_loss = 0\n",
    "\n",
    "\t\t\t# Put the model into training mode. Don't be mislead--the call to \n",
    "\t\t\t# `train` just changes the *mode*, it doesn't *perform* the training.\n",
    "\t\t\t# `dropout` and `batchnorm` layers behave differently during training\n",
    "\t\t\t# vs. test (source: https://stackoverflow.com/questions/51433378/what-does-model-train-do-in-pytorch)\n",
    "\t\t\tmodel.train()\n",
    "\n",
    "\t\t\t# For each batch of training data...\n",
    "\t\t\tfor step, batch in enumerate(tqdm(train_dataloader, desc=\"Iteration\")):\n",
    "\n",
    "\t\t\t# Progress update every 40 batches.\n",
    "\t\t\t\tif step % 40 == 0 and not step == 0:\n",
    "                    \n",
    "\t\t\t\t\t# Calculate elapsed time in minutes.\n",
    "\t\t\t\t\telapsed = format_time(time.time() - t0)\n",
    "\n",
    "\t\t\t\t\t# Report progress.\n",
    "\t\t\t\t\tprint('  Batch {:>5,}  of  {:>5,}.    Elapsed: {:}.'.format(step, len(train_dataloader), elapsed))\n",
    "\n",
    "\t\t\t# Unpack this training batch from our dataloader. \n",
    "\t\t\t# As we unpack the batch, we'll also copy each tensor to the GPU using the `to` method.\n",
    "\t\t\t# `batch` contains three pytorch tensors:\n",
    "\t\t\t#   [0]: input ids \n",
    "\t\t\t#   [1]: attention masks\n",
    "\t\t\t#   [2]: labels             \n",
    "\t\t\t\tb_input_ids = batch[0]#.to(device)     #<---------------------------- activate \n",
    "\t\t\t\tb_input_mask = batch[1]#.to(device)     #<---------------------------- activate \n",
    "\t\t\t\tb_labels = batch[2]#.to(device)     #<---------------------------- activate \n",
    "\n",
    "\t\t\t\t# Always clear any previously calculated gradients before performing a\n",
    "\t\t\t\t# backward pass. PyTorch doesn't do this automatically because \n",
    "\t\t\t\t# accumulating the gradients is \"convenient while training RNNs\". \n",
    "\t\t\t\t# (source: https://stackoverflow.com/questions/48001598/why-do-we-need-to-call-zero-grad-in-pytorch)\n",
    "\t\t\t\tmodel.zero_grad()        \n",
    "\n",
    "\t\t\t\t# Perform a forward pass (evaluate the model on this training batch).\n",
    "\t\t\t\t# The documentation for this `model` function is here: \n",
    "\t\t\t\t# https://huggingface.co/transformers/v2.2.0/model_doc/bert.html#transformers.BertForSequenceClassification\n",
    "\t\t\t\t# It returns different numbers of parameters depending on what arguments\n",
    "\t\t\t\t# arge given and what flags are set. For our useage here, it returns\n",
    "\t\t\t\t# the loss (because we provided labels) and the \"logits\"--the model\n",
    "\t\t\t\t# outputs prior to activation. \n",
    "\t\t\t\toutputs = model(b_input_ids,token_type_ids=None, attention_mask=b_input_mask, labels=b_labels)\n",
    "\t\t\t\tloss = outputs[0]\n",
    "\t\t\t\tlogits = outputs[1]\n",
    "\n",
    "\t\t\t\t# Accumulate the training loss over all of the batches so that we can\n",
    "\t\t\t\t# calculate the average loss at the end. `loss` is a Tensor containing a\n",
    "\t\t\t\t# single value; the `.item()` function just returns the Python value \n",
    "\t\t\t\t# from the tensor.\n",
    "\t\t\t\ttotal_train_loss += loss.item()\n",
    "\t\t\t\toutputs = model(b_input_ids,token_type_ids=None, attention_mask=b_input_mask, labels=b_labels)\n",
    "\t\t\t\tloss = outputs[0]\n",
    "\t\t\t\tlogits = outputs[1]\n",
    "\n",
    "\t\t\t\t# Perform a backward pass to calculate the gradients.\n",
    "\t\t\t\tloss.backward()\n",
    "\n",
    "\t\t\t\t# Clip the norm of the gradients to 1.0.\n",
    "\t\t\t\t# This is to help prevent the \"exploding gradients\" problem.\n",
    "\t\t\t\ttorch.nn.utils.clip_grad_norm_(model.parameters(), 1.0)\n",
    "\n",
    "\t\t\t\t# Update parameters and take a step using the computed gradient.\n",
    "\t\t\t\t# The optimizer dictates the \"update rule\"--how the parameters are\n",
    "\t\t\t\t# modified based on their gradients, the learning rate, etc.\n",
    "\t\t\t\toptimizer.step()\n",
    "\n",
    "\t\t\t\t# Update the learning rate.\n",
    "\t\t\t\tscheduler.step()\n",
    "\n",
    "\t\t# Calculate the average loss over all of the batches.\n",
    "\t\t\tavg_train_loss = total_train_loss / len(train_dataloader)            \n",
    "\n",
    "\t\t# Measure how long this epoch took.\n",
    "\t\t\ttraining_time = format_time(time.time() - t0)\n",
    "\n",
    "\t\t\tprint(\"\")\n",
    "\t\t\tprint(\"  Average training loss: {0:.2f}\".format(avg_train_loss)+'\\n')\n",
    "\t\t\tprint(\"  Training epcoh took: {:}\".format(training_time)+'\\n')\n",
    "\n",
    "\t\t# ========================================\n",
    "\t\t#               Validation\n",
    "\t\t# ========================================\n",
    "\t\t# After the completion of each training epoch, measure our performance on\n",
    "\t\t# our validation set.\n",
    "\n",
    "\t\t\tprint(\"\")\n",
    "\t\t\tprint(\"Running Validation...\"+'\\n')\n",
    "\n",
    "\t\t\tt0 = time.time()\n",
    "\n",
    "\t\t\t# Put the model in evaluation mode--the dropout layers behave differently\n",
    "\t\t\t# during evaluation.\n",
    "\t\t\tmodel.eval()\n",
    "\n",
    "\t\t\t# Tracking variables \n",
    "\t\t\ttotal_eval_accuracy = 0\n",
    "\t\t\ttotal_eval_loss = 0\n",
    "\t\t\tnb_eval_steps = 0\n",
    "\n",
    "\t\t\t# Evaluate data for one epoch\n",
    "\t\t\tfor batch in tqdm(validation_dataloader, desc=\"Iteration\"):\n",
    "\t\t\t\n",
    "\t\t\t# Unpack this training batch from our dataloader. \n",
    "\t\t\t#\n",
    "\t\t\t# As we unpack the batch, we'll also copy each tensor to the GPU using the `to` method.\n",
    "\t\t\t# `batch` contains three pytorch tensors:\n",
    "\t\t\t#   [0]: input ids \n",
    "\t\t\t#   [1]: attention masks\n",
    "\t\t\t#   [2]: labels \n",
    "\t\t\t\tb_input_ids = batch[0]#.to(device)    #<---------------------------- activate \n",
    "\t\t\t\tb_input_mask = batch[1]#.to(device)    #<---------------------------- activate \n",
    "\t\t\t\tb_labels = batch[2]#.to(device)    #<---------------------------- activate \n",
    "\n",
    "\t\t\t\t# Tell pytorch not to bother with constructing the compute graph during\n",
    "\t\t\t\t# the forward pass, since this is only needed for backprop (training).\n",
    "\t\t\t\twith torch.no_grad():        \n",
    "\n",
    "\t\t\t\t# Forward pass, calculate logit predictions.\n",
    "\t\t\t\t# token_type_ids is the same as the \"segment ids\", which \n",
    "\t\t\t\t# differentiates sentence 1 and 2 in 2-sentence tasks.\n",
    "\t\t\t\t# The documentation for this `model` function is here: \n",
    "\t\t\t\t# https://huggingface.co/transformers/v2.2.0/model_doc/bert.html#transformers.BertForSequenceClassification\n",
    "\t\t\t\t# Get the \"logits\" output by the model. The \"logits\" are the output\n",
    "\t\t\t\t# values prior to applying an activation function like the softmax.\n",
    "\n",
    "\t\t\t\t\toutputs = model(b_input_ids,token_type_ids=None, attention_mask=b_input_mask, labels=b_labels)\n",
    "\t\t\t\t\tloss = outputs[0]\n",
    "\t\t\t\t\tlogits = outputs[1]\n",
    "\t\t\t\t# Accumulate the validation loss.\n",
    "\t\t\t\ttotal_eval_loss += loss.item()\n",
    "\n",
    "\t\t\t\t# Move logits and labels to CPU\n",
    "\t\t\t\tlogits = logits.detach().cpu().numpy()\n",
    "\t\t\t\tlabel_ids = b_labels.to('cpu').numpy()\n",
    "\n",
    "\t\t\t\t# Calculate the accuracy for this batch of test sentences, and\n",
    "\t\t\t\t# accumulate it over all batches.\n",
    "\t\t\t\ttotal_eval_accuracy += flat_accuracy(logits, label_ids)\n",
    "\n",
    "\n",
    "\t\t\t# Report the final accuracy for this validation run.\n",
    "\t\t\tavg_val_accuracy = total_eval_accuracy / len(validation_dataloader)\n",
    "\t\t\tprint(\"  Accuracy: {0:.2f}\".format(avg_val_accuracy))\n",
    "\n",
    "\t\t\t# Calculate the average loss over all of the batches.\n",
    "\t\t\tavg_val_loss = total_eval_loss / len(validation_dataloader)\n",
    "\n",
    "\t\t\t# Measure how long the validation run took.\n",
    "\t\t\tvalidation_time = format_time(time.time() - t0)\n",
    "\n",
    "\t\t\tprint(\"  Validation Loss: {0:.2f}\".format(avg_val_loss))\n",
    "\t\t\tprint(\"  Validation took: {:}\".format(validation_time))\n",
    "\n",
    "\t\t\t# Record all statistics from this epoch.\n",
    "\t\t\ttraining_stats.append(\n",
    "\t\t\t\t{\n",
    "\t\t\t\t\t'epoch': epoch_i + 1,\n",
    "\t\t\t\t\t'Training Loss': avg_train_loss,\n",
    "\t\t\t\t\t'Valid. Loss': avg_val_loss,\n",
    "\t\t\t\t\t'Valid. Accur.': avg_val_accuracy,\n",
    "\t\t\t\t\t'Training Time': training_time,\n",
    "\t\t\t\t\t'Validation Time': validation_time})\n",
    "\n",
    "\t\tprint(\"\")\n",
    "\t\tprint(\"Training complete!\"+'\\n')\n",
    "\n",
    "\t\tprint(\"Total training took {:} (h:mm:ss)\".format(format_time(time.time()-total_t0))+'\\n')\n",
    "#####################################################################################################################################    \n",
    "################################################# End of Training   \n",
    "#####################################################################################################################################\n",
    "\n",
    "\n",
    "#####################################################################################################################################    \n",
    "################################################# Saving the Training Metrics \n",
    "#####################################################################################################################################\n",
    "\t\t# Display floats with two decimal places.\n",
    "\t\tpd.options.display.precision   \n",
    "\n",
    "\t\t# Create a DataFrame from our training statistics.\n",
    "\t\tdf_stats = pd.DataFrame(data=training_stats)\n",
    "\n",
    "\t\t# Use the 'epoch' as the row index.\n",
    "\t\tdf_stats = df_stats.set_index('epoch')\n",
    "\n",
    "\t\t# Display the table.\n",
    "\n",
    "\t\tprint(f\"Metrics of{train_size} of the training data set\"+'\\n')\n",
    "\t\tprint(df_stats)\n",
    "    \n",
    "\t\tdf_stats.to_csv('Bio_ClinicalBERT_Metrics_of_'+str(train_size)+\"_iteration_\"+str(_)+'.csv')\n",
    "#####################################################################################################################################    \n",
    "################################################# Saving the Training Process  \n",
    "#####################################################################################################################################    \n",
    "\n",
    "\n",
    "#####################################################################################################################################    \n",
    "################################################# Preparing Test data for Testing    \n",
    "#####################################################################################################################################\n",
    "\t\tprint(len(test_data))\n",
    "\t\tsentences = test_data.text.values\n",
    "\t\tlabels = test_data.label.values    \n",
    "    \n",
    "\t\t# Report the number of sentences.\n",
    "\t\t#print('Number of test sentences: {:,}\\n'.format(df.shape[0]))\n",
    "\n",
    "\t\t# Tokenize all of the sentences and map the tokens to thier word IDs.\n",
    "\t\tinput_ids = []\n",
    "\t\tattention_masks = []\n",
    "\n",
    "\t\t# For every sentence...\n",
    "\t\tfor sent in sentences:\n",
    "\t\t# `encode_plus` will:\n",
    "\t\t#   (1) Tokenize the sentence.\n",
    "\t\t#   (2) Prepend the `[CLS]` token to the start.\n",
    "\t\t#   (3) Append the `[SEP]` token to the end.\n",
    "\t\t#   (4) Map tokens to their IDs.\n",
    "\t\t#   (5) Pad or truncate the sentence to `max_length`\n",
    "\t\t#   (6) Create attention masks for [PAD] tokens.\n",
    "\t\t\tencoded_dict = tokenizer.encode_plus(\n",
    "\t\t\t\t\t\t\tsent,                      # Sentence to encode.\n",
    "\t\t\t\t\t\t\tadd_special_tokens = True, # Add '[CLS]' and '[SEP]'\n",
    "\t\t\t\t\t\t\tmax_length = 512,           # Pad & truncate all sentences.\n",
    "\t\t\t\t\t\t\tpad_to_max_length = True,\n",
    "\t\t\t\t\t\t\treturn_attention_mask = True,   # Construct attn. masks.\n",
    "\t\t\t\t\t\t\ttruncation = True,\n",
    "\t\t\t\t\t\t\treturn_tensors = 'pt')     # Return pytorch tensors.\n",
    "\n",
    "\t\t\t# Add the encoded sentence to the list.    \n",
    "\t\t\tinput_ids.append(encoded_dict['input_ids'])\n",
    "\n",
    "\t\t\t# And its attention mask (simply differentiates padding from non-padding).\n",
    "\t\t\tattention_masks.append(encoded_dict['attention_mask'])\n",
    "\n",
    "\t\t# Convert the lists into tensors.\n",
    "\t\tinput_ids = torch.cat(input_ids, dim=0)\n",
    "\t\tattention_masks = torch.cat(attention_masks, dim=0)\n",
    "\t\tlabels = torch.tensor(labels)\n",
    "\n",
    "\t\t# Set the batch size.  \n",
    "\t\tbatch_size = 32  \n",
    "\n",
    "\t\t# Create the DataLoader.\n",
    "\t\tprediction_data = TensorDataset(input_ids, attention_masks, labels)\n",
    "\t\tprediction_sampler = SequentialSampler(prediction_data)\n",
    "\t\tprediction_dataloader = DataLoader(prediction_data, sampler=prediction_sampler, batch_size=batch_size)\n",
    "#####################################################################################################################################    \n",
    "################################################# Preparing Test data for Testing    \n",
    "#####################################################################################################################################\n",
    "\n",
    "\n",
    "#####################################################################################################################################    \n",
    "################################################# Start of Testing    \n",
    "#####################################################################################################################################\n",
    "\t\tprint('Predicting labels for {:,} test sentences...'.format(len(input_ids))+'\\n')\n",
    "\n",
    "\t\t# Put model in evaluation mode\n",
    "\t\tmodel.eval()\n",
    "\n",
    "\t\t# Tracking variables \n",
    "\t\tpredictions , true_labels = [], []\n",
    "\t\tprob = []\n",
    "        \n",
    "\t\t# Predict \n",
    "\t\tfor batch in tqdm(prediction_dataloader):\n",
    "            \n",
    "\t\t\t# Add batch to GPU if you have by moving device between the ()\n",
    "\t\t\tbatch = tuple(t.to() for t in batch) #device   #<---------------------------- activate ( to(device) )\n",
    "\n",
    "\t\t\t# Unpack the inputs from our dataloader\n",
    "\t\t\tb_input_ids, b_input_mask, b_labels = batch\n",
    "\n",
    "\t\t\t# Telling the model not to compute or store gradients, saving memory and \n",
    "\t\t\t# speeding up prediction\n",
    "\t\t\twith torch.no_grad():\n",
    "                \n",
    "\t\t\t\t# Forward pass, calculate logit predictions\n",
    "\t\t\t\toutputs = model(b_input_ids, token_type_ids=None, \n",
    "\t\t\t\t\t\t\t\tattention_mask=b_input_mask)\n",
    "\n",
    "\t\t\tlogits = outputs[0]\n",
    "\n",
    "\t\t\t# Move logits and labels to CPU\n",
    "\t\t\tlogits = logits.detach().cpu().numpy()\n",
    "\t\t\tlabel_ids = b_labels.to('cpu').numpy()\n",
    "\n",
    "\t\t\t# Store the logits as predictions \n",
    "\t\t\tpredictions.append(logits)\n",
    "            \n",
    "\t\t\t# Store the true labels            \n",
    "\t\t\ttrue_labels.append(label_ids)           \n",
    "        \n",
    "\t\t\t# Calculate the probabilitites from the logits and store them    \n",
    "\t\t\tprobabilities = tf.math.sigmoid(logits)        \n",
    "\t\t\tprob.append(probabilities)        \n",
    "            \n",
    "\t\tprint('..........DONE..........'+'\\n')        \n",
    "#####################################################################################################################################    \n",
    "################################################# End of Testing    \n",
    "#####################################################################################################################################\n",
    "\n",
    "\n",
    "#####################################################################################################################################    \n",
    "################################################# Caluclating MCC   \n",
    "#####################################################################################################################################\n",
    "\t\t#not working with one class prediction\n",
    "\t\tprint('Positive samples: %d of %d (%.2f%%)' % (data.label.sum(), len(data.label), (data.label.sum() / len(data.label) * 100.0)))\n",
    "\t\tmatthews_set = []\n",
    "\n",
    "        \n",
    "\t\t# Evaluate each test batch using Matthew's correlation coefficient\n",
    "\t\tprint('Calculating Matthews Corr. Coef. for each batch...'+'\\n')\n",
    "\n",
    "\t# For each input batch...\n",
    "\t\tfor i in range(len(true_labels)):\n",
    "\n",
    "\t\t\t# The predictions for this batch are a 2-column ndarray (one column for \"0\" \n",
    "\t\t\t# and one column for \"1\"). Pick the label with the highest value and turn this\n",
    "\t\t\t# in to a list of 0s and 1s.\n",
    "\t\t\tpred_labels_i = np.argmax(predictions[i], axis=1).flatten()\n",
    "            \n",
    "\t\t\t# Calculate and store the coef for this batch.  \n",
    "\t\t\tmatthews = matthews_corrcoef(true_labels[i], pred_labels_i)                \n",
    "\t\t\tmatthews_set.append(matthews)\n",
    "\n",
    "\t\t# Combine the results across all batches. \n",
    "\t\tflat_predictions = np.concatenate(predictions, axis=0)  \n",
    "        \n",
    "\t\t# For each sample, pick the label (0 or 1) with the higher score.\n",
    "\t\tfinal_predictions = np.argmax(flat_predictions, axis=1).flatten() \n",
    "        \n",
    "\t\t# Combine the correct labels for each batch into a single list.\n",
    "\t\tflat_true_labels = np.concatenate(true_labels, axis=0)               \n",
    "        \n",
    "\t\t# Calculate the MCC\n",
    "\t\tmcc = matthews_corrcoef(flat_true_labels, final_predictions)        \n",
    "\t\tprint('Total MCC: %.3f' % mcc)\n",
    "        \n",
    "\t\t# We need to save the output in dataframe for the whole 25 runs \n",
    "\t\tmcc_result.append(float(mcc))           \n",
    "#####################################################################################################################################    \n",
    "################################################# Caluclating MCC   \n",
    "#####################################################################################################################################   \n",
    "\n",
    "\n",
    "#####################################################################################################################################    \n",
    "################################################# Retreiving the Probabilities for Each Iteration   \n",
    "#####################################################################################################################################\n",
    "\t\t# Combine the probabilities across all batches. \n",
    "\t\tprob_predictions = np.concatenate(prob, axis=0)  \n",
    "        \n",
    "\t\t# For each sample, pick the higher in score.\n",
    "\t\tprob_predictions = np.max(prob_predictions, axis=1).flatten()  \n",
    "        \n",
    "\t\t# Storing the the propalities in dataframe    \n",
    "\t\tprobability_df = pd.DataFrame({\n",
    "                                       \"True Labels\" :flat_true_labels,      \n",
    "                                       \"Predicted Labels\" :final_predictions,\n",
    "                                       \"Probabilities of Predicted Labels\" :prob_predictions})    \n",
    "        \n",
    "\t\tprobability_df.to_csv('Bio_ClinicalBERT_Probabilities_'+str(train_size)+\"_iteration_\"+str(_)+'.csv', index = False)         \n",
    "#####################################################################################################################################    \n",
    "################################################# Retreiving the Probabilities for Each Iteration \n",
    "#####################################################################################################################################\n",
    "\n",
    "\n",
    "#####################################################################################################################################    \n",
    "################################################# Caluclating GLUE  \n",
    "##################################################################################################################################### \n",
    "\t\tmetric = evaluate.load(\"glue\", \"mrpc\")\n",
    "\t\tglue = metric.compute(predictions= final_predictions, references=flat_true_labels) \n",
    "           \n",
    "\t\tprint(f\"GLUE score of {train_size} training data for iteration {_}: \", glue)\n",
    "        \n",
    "\t\t#we need to save the output in dataframe for the whole 25 runs \n",
    "\t\tglue_result.append(glue)                \n",
    "#####################################################################################################################################    \n",
    "################################################# Caluclating GLUE  \n",
    "#####################################################################################################################################      \n",
    "\n",
    "\n",
    "#####################################################################################################################################    \n",
    "################################################# Caluclating AUC\n",
    "##################################################################################################################################### \n",
    "\t\t#not working with one class prediction\n",
    "\t\t#auc = roc_auc_score(flat_true_labels, final_predictions)       \n",
    "\t\t#print(f\"ROC AUC score of {train_size} training data for iteration {_}: \", auc)  \n",
    "        \n",
    "\t\t#we need to save the output in dataframe for the whole 25 runs \n",
    "\t\t#auc_result.append(float(auc))         \n",
    "#####################################################################################################################################    \n",
    "################################################# Caluclating AUC\n",
    "##################################################################################################################################### \n",
    "\n",
    "\n",
    "#####################################################################################################################################    \n",
    "################################################# Saving Metrics in Dataframe for each Sample Size\n",
    "#####################################################################################################################################   \n",
    "\t#for MCC\n",
    "\t#MCC_df = pd.DataFrame(mcc_result, columns = ['MCC'])\n",
    "\t#MCC_df.to_csv('BERT_MCC_'+str(train_size)+'.csv', index = False)   \n",
    "\n",
    "\t#for GLUE    \n",
    "\tGLUE_df = pd.DataFrame(glue_result, columns = ['accuracy', 'f1'])      \n",
    "\tGLUE_df.to_csv('Bio_ClinicalBERT_GLUE_'+str(train_size)+'.csv', index = False)  \n",
    "\n",
    "\t#for AUC\n",
    "\t#AUC_df = pd.DataFrame(auc_result, columns = ['AUC'])\n",
    "\t#AUC_df.to_csv('BERT_AUC_'+str(train_size)+'.csv', index = False) \n",
    "#####################################################################################################################################    \n",
    "################################################# Saving Metrics in Dataframe for each Sample Size\n",
    "#####################################################################################################################################                                     "
   ]
  },
  {
   "cell_type": "code",
   "execution_count": null,
   "id": "6ce7b20e-f867-4e7a-8bde-ad9edb55ae58",
   "metadata": {},
   "outputs": [],
   "source": [
    "# Saving best-practices: if you use defaults names for the model, you can reload it using from_pretrained()\n",
    "# Make new save directory for each model (i.e. proportion size)\n",
    "#output_dir = './model_save_/'\n",
    "\n",
    "# Create output directory if needed\n",
    "#if not os.path.exists(output_dir):\n",
    "#os.makedirs(output_dir)\n",
    "\n",
    "#print(\"Saving model to %s\" % output_dir)\n",
    "\n",
    "# Save a trained model, configuration and tokenizer using `save_pretrained()`.\n",
    "# They can then be reloaded using `from_pretrained()`\n",
    "#model_to_save = model.module if hasattr(model, 'module') else model  # Take care of distributed/parallel training\n",
    "#model_to_save.save_pretrained(output_dir)\n",
    "#tokenizer.save_pretrained(output_dir)\n",
    "\n",
    "# Good practice: save your training arguments together with the trained model\n",
    "# torch.save(args, os.path.join(output_dir, 'training_args.bin'))\n",
    "\n",
    "# !ls -l --block-size=K ./model_save/\n",
    "\n",
    "# !ls -l --block-size=M ./model_save/pytorch_model.bin\n",
    "\n",
    "# Load a trained model and vocabulary that you have fine-tuned\n",
    "# model = model_class.from_pretrained(output_dir)\n",
    "# tokenizer = tokenizer_class.from_pretrained(output_dir)\n",
    "\n",
    "# # Copy the model to the GPU.\n",
    "# model.to(device) #<---------------------------- activate "
   ]
  },
  {
   "cell_type": "code",
   "execution_count": null,
   "id": "aebf2960-106b-4461-8e62-79db080785af",
   "metadata": {},
   "outputs": [],
   "source": []
  }
 ],
 "metadata": {
  "kernelspec": {
   "display_name": "Python 3 (ipykernel)",
   "language": "python",
   "name": "python3"
  },
  "language_info": {
   "codemirror_mode": {
    "name": "ipython",
    "version": 3
   },
   "file_extension": ".py",
   "mimetype": "text/x-python",
   "name": "python",
   "nbconvert_exporter": "python",
   "pygments_lexer": "ipython3",
   "version": "3.8.3"
  }
 },
 "nbformat": 4,
 "nbformat_minor": 5
}
